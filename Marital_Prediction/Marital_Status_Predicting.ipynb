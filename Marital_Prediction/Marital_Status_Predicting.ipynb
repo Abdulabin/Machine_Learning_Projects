{
 "cells": [
  {
   "cell_type": "markdown",
   "id": "24a3c119",
   "metadata": {},
   "source": [
    "<h2 style=\"color:red\" align=\"center\">Predicting if a person would be married based on his age using logistic regression</h2>"
   ]
  },
  {
   "cell_type": "markdown",
   "id": "f79b73af",
   "metadata": {},
   "source": [
    "**Problem Statement**: Build a machine learning model that can predict person is married or not\n",
    "- Q1. Split data for training and testing ? \n",
    "- Q2. Find the accuracy of your model ? \n",
    "- Q3. Find the probability using test data ?\n",
    "- Q4. Find values of m and c ?\n",
    "- Q5. Predict person of age 35 and 46 are married or not ?\n"
   ]
  },
  {
   "cell_type": "code",
   "execution_count": 1,
   "id": "48e55785",
   "metadata": {},
   "outputs": [],
   "source": [
    "import pandas as pd\n",
    "from matplotlib import pyplot as plt\n",
    "import seaborn as sns\n",
    "import numpy as np\n",
    "#ignore warnings\n",
    "import warnings\n",
    "warnings.filterwarnings('ignore')"
   ]
  },
  {
   "cell_type": "code",
   "execution_count": 2,
   "id": "5d10ef69",
   "metadata": {},
   "outputs": [
    {
     "data": {
      "text/html": [
       "<div>\n",
       "<style scoped>\n",
       "    .dataframe tbody tr th:only-of-type {\n",
       "        vertical-align: middle;\n",
       "    }\n",
       "\n",
       "    .dataframe tbody tr th {\n",
       "        vertical-align: top;\n",
       "    }\n",
       "\n",
       "    .dataframe thead th {\n",
       "        text-align: right;\n",
       "    }\n",
       "</style>\n",
       "<table border=\"1\" class=\"dataframe\">\n",
       "  <thead>\n",
       "    <tr style=\"text-align: right;\">\n",
       "      <th></th>\n",
       "      <th>age</th>\n",
       "      <th>married</th>\n",
       "    </tr>\n",
       "  </thead>\n",
       "  <tbody>\n",
       "    <tr>\n",
       "      <th>0</th>\n",
       "      <td>22</td>\n",
       "      <td>0</td>\n",
       "    </tr>\n",
       "    <tr>\n",
       "      <th>1</th>\n",
       "      <td>25</td>\n",
       "      <td>0</td>\n",
       "    </tr>\n",
       "    <tr>\n",
       "      <th>2</th>\n",
       "      <td>47</td>\n",
       "      <td>1</td>\n",
       "    </tr>\n",
       "    <tr>\n",
       "      <th>3</th>\n",
       "      <td>52</td>\n",
       "      <td>0</td>\n",
       "    </tr>\n",
       "    <tr>\n",
       "      <th>4</th>\n",
       "      <td>46</td>\n",
       "      <td>1</td>\n",
       "    </tr>\n",
       "  </tbody>\n",
       "</table>\n",
       "</div>"
      ],
      "text/plain": [
       "   age  married\n",
       "0   22        0\n",
       "1   25        0\n",
       "2   47        1\n",
       "3   52        0\n",
       "4   46        1"
      ]
     },
     "execution_count": 2,
     "metadata": {},
     "output_type": "execute_result"
    }
   ],
   "source": [
    "df = pd.read_csv(r\"C:\\Users\\abdul\\Downloads\\PROJECTS\\ML PROJECTS\\Marital_Prediction\\Data\\Marriage_data.csv\")\n",
    "df.head()"
   ]
  },
  {
   "cell_type": "code",
   "execution_count": 3,
   "id": "01bf2bd5",
   "metadata": {},
   "outputs": [
    {
     "data": {
      "text/plain": [
       "<matplotlib.collections.PathCollection at 0x1d9a6e82280>"
      ]
     },
     "execution_count": 3,
     "metadata": {},
     "output_type": "execute_result"
    },
    {
     "data": {
      "image/png": "[encoded data removed]",
      "text/plain": [
       "<Figure size 640x480 with 1 Axes>"
      ]
     },
     "metadata": {},
     "output_type": "display_data"
    }
   ],
   "source": [
    "plt.xlabel('age')\n",
    "plt.ylabel('married status')\n",
    "plt.scatter(df.age,df.married)"
   ]
  },
  {
   "cell_type": "markdown",
   "id": "09c6fae8",
   "metadata": {},
   "source": [
    "**Q1. Split data for training and testing ?**"
   ]
  },
  {
   "cell_type": "code",
   "execution_count": 4,
   "id": "d09bdc8d",
   "metadata": {},
   "outputs": [],
   "source": [
    "from sklearn.model_selection import train_test_split\n",
    "X_train, X_test, y_train, y_test = train_test_split(df[['age']],df.married,train_size=0.8)"
   ]
  },
  {
   "cell_type": "code",
   "execution_count": 5,
   "id": "94a46d74",
   "metadata": {},
   "outputs": [
    {
     "data": {
      "text/html": [
       "<style>#sk-container-id-1 {color: black;}#sk-container-id-1 pre{padding: 0;}#sk-container-id-1 div.sk-toggleable {background-color: white;}#sk-container-id-1 label.sk-toggleable__label {cursor: pointer;display: block;width: 100%;margin-bottom: 0;padding: 0.3em;box-sizing: border-box;text-align: center;}#sk-container-id-1 label.sk-toggleable__label-arrow:before {content: \"▸\";float: left;margin-right: 0.25em;color: #696969;}#sk-container-id-1 label.sk-toggleable__label-arrow:hover:before {color: black;}#sk-container-id-1 div.sk-estimator:hover label.sk-toggleable__label-arrow:before {color: black;}#sk-container-id-1 div.sk-toggleable__content {max-height: 0;max-width: 0;overflow: hidden;text-align: left;background-color: #f0f8ff;}#sk-container-id-1 div.sk-toggleable__content pre {margin: 0.2em;color: black;border-radius: 0.25em;background-color: #f0f8ff;}#sk-container-id-1 input.sk-toggleable__control:checked~div.sk-toggleable__content {max-height: 200px;max-width: 100%;overflow: auto;}#sk-container-id-1 input.sk-toggleable__control:checked~label.sk-toggleable__label-arrow:before {content: \"▾\";}#sk-container-id-1 div.sk-estimator input.sk-toggleable__control:checked~label.sk-toggleable__label {background-color: #d4ebff;}#sk-container-id-1 div.sk-label input.sk-toggleable__control:checked~label.sk-toggleable__label {background-color: #d4ebff;}#sk-container-id-1 input.sk-hidden--visually {border: 0;clip: rect(1px 1px 1px 1px);clip: rect(1px, 1px, 1px, 1px);height: 1px;margin: -1px;overflow: hidden;padding: 0;position: absolute;width: 1px;}#sk-container-id-1 div.sk-estimator {font-family: monospace;background-color: #f0f8ff;border: 1px dotted black;border-radius: 0.25em;box-sizing: border-box;margin-bottom: 0.5em;}#sk-container-id-1 div.sk-estimator:hover {background-color: #d4ebff;}#sk-container-id-1 div.sk-parallel-item::after {content: \"\";width: 100%;border-bottom: 1px solid gray;flex-grow: 1;}#sk-container-id-1 div.sk-label:hover label.sk-toggleable__label {background-color: #d4ebff;}#sk-container-id-1 div.sk-serial::before {content: \"\";position: absolute;border-left: 1px solid gray;box-sizing: border-box;top: 0;bottom: 0;left: 50%;z-index: 0;}#sk-container-id-1 div.sk-serial {display: flex;flex-direction: column;align-items: center;background-color: white;padding-right: 0.2em;padding-left: 0.2em;position: relative;}#sk-container-id-1 div.sk-item {position: relative;z-index: 1;}#sk-container-id-1 div.sk-parallel {display: flex;align-items: stretch;justify-content: center;background-color: white;position: relative;}#sk-container-id-1 div.sk-item::before, #sk-container-id-1 div.sk-parallel-item::before {content: \"\";position: absolute;border-left: 1px solid gray;box-sizing: border-box;top: 0;bottom: 0;left: 50%;z-index: -1;}#sk-container-id-1 div.sk-parallel-item {display: flex;flex-direction: column;z-index: 1;position: relative;background-color: white;}#sk-container-id-1 div.sk-parallel-item:first-child::after {align-self: flex-end;width: 50%;}#sk-container-id-1 div.sk-parallel-item:last-child::after {align-self: flex-start;width: 50%;}#sk-container-id-1 div.sk-parallel-item:only-child::after {width: 0;}#sk-container-id-1 div.sk-dashed-wrapped {border: 1px dashed gray;margin: 0 0.4em 0.5em 0.4em;box-sizing: border-box;padding-bottom: 0.4em;background-color: white;}#sk-container-id-1 div.sk-label label {font-family: monospace;font-weight: bold;display: inline-block;line-height: 1.2em;}#sk-container-id-1 div.sk-label-container {text-align: center;}#sk-container-id-1 div.sk-container {/* jupyter's `normalize.less` sets `[hidden] { display: none; }` but bootstrap.min.css set `[hidden] { display: none !important; }` so we also need the `!important` here to be able to override the default hidden behavior on the sphinx rendered scikit-learn.org. See: https://github.com/scikit-learn/scikit-learn/issues/21755 */display: inline-block !important;position: relative;}#sk-container-id-1 div.sk-text-repr-fallback {display: none;}</style><div id=\"sk-container-id-1\" class=\"sk-top-container\"><div class=\"sk-text-repr-fallback\"><pre>LogisticRegression()</pre><b>In a Jupyter environment, please rerun this cell to show the HTML representation or trust the notebook. <br />On GitHub, the HTML representation is unable to render, please try loading this page with nbviewer.org.</b></div><div class=\"sk-container\" hidden><div class=\"sk-item\"><div class=\"sk-estimator sk-toggleable\"><input class=\"sk-toggleable__control sk-hidden--visually\" id=\"sk-estimator-id-1\" type=\"checkbox\" checked><label for=\"sk-estimator-id-1\" class=\"sk-toggleable__label sk-toggleable__label-arrow\">LogisticRegression</label><div class=\"sk-toggleable__content\"><pre>LogisticRegression()</pre></div></div></div></div></div>"
      ],
      "text/plain": [
       "LogisticRegression()"
      ]
     },
     "execution_count": 5,
     "metadata": {},
     "output_type": "execute_result"
    }
   ],
   "source": [
    "# Applying Logistic Regression\n",
    "from sklearn.linear_model import LogisticRegression\n",
    "model = LogisticRegression()\n",
    "model.fit(X_train, y_train)"
   ]
  },
  {
   "cell_type": "code",
   "execution_count": 6,
   "id": "ebda2ace",
   "metadata": {},
   "outputs": [
    {
     "data": {
      "text/html": [
       "<div>\n",
       "<style scoped>\n",
       "    .dataframe tbody tr th:only-of-type {\n",
       "        vertical-align: middle;\n",
       "    }\n",
       "\n",
       "    .dataframe tbody tr th {\n",
       "        vertical-align: top;\n",
       "    }\n",
       "\n",
       "    .dataframe thead th {\n",
       "        text-align: right;\n",
       "    }\n",
       "</style>\n",
       "<table border=\"1\" class=\"dataframe\">\n",
       "  <thead>\n",
       "    <tr style=\"text-align: right;\">\n",
       "      <th></th>\n",
       "      <th>age</th>\n",
       "    </tr>\n",
       "  </thead>\n",
       "  <tbody>\n",
       "    <tr>\n",
       "      <th>14</th>\n",
       "      <td>49</td>\n",
       "    </tr>\n",
       "    <tr>\n",
       "      <th>6</th>\n",
       "      <td>55</td>\n",
       "    </tr>\n",
       "    <tr>\n",
       "      <th>23</th>\n",
       "      <td>45</td>\n",
       "    </tr>\n",
       "    <tr>\n",
       "      <th>7</th>\n",
       "      <td>60</td>\n",
       "    </tr>\n",
       "    <tr>\n",
       "      <th>26</th>\n",
       "      <td>23</td>\n",
       "    </tr>\n",
       "    <tr>\n",
       "      <th>20</th>\n",
       "      <td>21</td>\n",
       "    </tr>\n",
       "  </tbody>\n",
       "</table>\n",
       "</div>"
      ],
      "text/plain": [
       "    age\n",
       "14   49\n",
       "6    55\n",
       "23   45\n",
       "7    60\n",
       "26   23\n",
       "20   21"
      ]
     },
     "execution_count": 6,
     "metadata": {},
     "output_type": "execute_result"
    }
   ],
   "source": [
    "X_test"
   ]
  },
  {
   "cell_type": "code",
   "execution_count": 7,
   "id": "2f634043",
   "metadata": {},
   "outputs": [
    {
     "data": {
      "text/plain": [
       "14    1\n",
       "6     0\n",
       "23    1\n",
       "7     1\n",
       "26    0\n",
       "20    0\n",
       "Name: married, dtype: int64"
      ]
     },
     "execution_count": 7,
     "metadata": {},
     "output_type": "execute_result"
    }
   ],
   "source": [
    "y_test"
   ]
  },
  {
   "cell_type": "code",
   "execution_count": 8,
   "id": "18385bfa",
   "metadata": {},
   "outputs": [
    {
     "data": {
      "text/plain": [
       "array([1, 1, 1, 1, 0, 0], dtype=int64)"
      ]
     },
     "execution_count": 8,
     "metadata": {},
     "output_type": "execute_result"
    }
   ],
   "source": [
    "y_predicted = model.predict(X_test)\n",
    "y_predicted"
   ]
  },
  {
   "cell_type": "code",
   "execution_count": 9,
   "id": "2d1b7b37",
   "metadata": {},
   "outputs": [
    {
     "data": {
      "text/plain": [
       "array([0], dtype=int64)"
      ]
     },
     "execution_count": 9,
     "metadata": {},
     "output_type": "execute_result"
    }
   ],
   "source": [
    "model.predict([[25]])"
   ]
  },
  {
   "cell_type": "markdown",
   "id": "029c280d",
   "metadata": {},
   "source": [
    "**Q2. Find the accuracy of  model ?**"
   ]
  },
  {
   "cell_type": "code",
   "execution_count": 10,
   "id": "276d9fe9",
   "metadata": {},
   "outputs": [
    {
     "name": "stdout",
     "output_type": "stream",
     "text": [
      "accuracy is  83.33333333333334 %\n"
     ]
    }
   ],
   "source": [
    "accuracy = model.score(X_test,y_test)\n",
    "print('accuracy is ',accuracy*100,'%')"
   ]
  },
  {
   "cell_type": "markdown",
   "id": "ff9ad102",
   "metadata": {},
   "source": [
    "**Q3. Find the probability using test data ?**"
   ]
  },
  {
   "cell_type": "code",
   "execution_count": 11,
   "id": "f9fc1857",
   "metadata": {},
   "outputs": [
    {
     "data": {
      "text/plain": [
       "array([[0.13785518, 0.86214482],\n",
       "       [0.05945498, 0.94054502],\n",
       "       [0.22889888, 0.77110112],\n",
       "       [0.02834389, 0.97165611],\n",
       "       [0.8991851 , 0.1008149 ],\n",
       "       [0.92396939, 0.07603061]])"
      ]
     },
     "execution_count": 11,
     "metadata": {},
     "output_type": "execute_result"
    }
   ],
   "source": [
    "model.predict_proba(X_test)  # probabolity of notmarried vs probability of married"
   ]
  },
  {
   "cell_type": "markdown",
   "id": "85456010",
   "metadata": {},
   "source": [
    "**Q4. Find values of m and c ?**"
   ]
  },
  {
   "cell_type": "code",
   "execution_count": 12,
   "id": "77fa1528",
   "metadata": {},
   "outputs": [
    {
     "name": "stdout",
     "output_type": "stream",
     "text": [
      "m =  [[0.15467009]] c =  [-5.74561473]\n"
     ]
    }
   ],
   "source": [
    "m = model.coef_\n",
    "c = model.intercept_\n",
    "print('m = ',m,'c = ',c)"
   ]
  },
  {
   "cell_type": "markdown",
   "id": "8ccb8588",
   "metadata": {},
   "source": [
    "# Custom Model"
   ]
  },
  {
   "cell_type": "code",
   "execution_count": 13,
   "id": "b8db8ccd",
   "metadata": {},
   "outputs": [],
   "source": [
    "def sigmoid(z):\n",
    "    yhat=1/(1+np.exp(-z))\n",
    "    return yhat"
   ]
  },
  {
   "cell_type": "code",
   "execution_count": 14,
   "id": "06fe9ee3",
   "metadata": {},
   "outputs": [],
   "source": [
    "def prediction_function(age,w,b):\n",
    "#   y = mx + c\n",
    "    z = w * age + b     \n",
    "    yhat = sigmoid(z)\n",
    "    if yhat >0.5:\n",
    "        return 1\n",
    "    else:\n",
    "        return 0 "
   ]
  },
  {
   "cell_type": "code",
   "execution_count": 28,
   "id": "310a63b4",
   "metadata": {},
   "outputs": [],
   "source": [
    "def Gradient_Descent_(X,y):\n",
    "    w=np.zeros(X.shape[1])\n",
    "    b=0\n",
    "    m=len(X)\n",
    "    alpha=0.001\n",
    "    for _ in range(500000):\n",
    "        # Predictions\n",
    "        z = np.dot(X, w) + b\n",
    "        yhat=sigmoid(z)\n",
    "        \n",
    "         ## Cost Function(MSE)\n",
    "        MSE= (1/m) * np.sum(( (-y) *np.log(yhat)) - ((1-y)* np.log(1-yhat))  )\n",
    "\n",
    "        ## Partial Derivative\n",
    "        func_w = (1/m) * np.dot((yhat-y),X)\n",
    "        func_b = (1/m) * np.sum(yhat-y)\n",
    "        \n",
    "        ## Gradient Descent\n",
    "        w = w - alpha * func_w\n",
    "        b = b - alpha * func_b\n",
    "    return w,b"
   ]
  },
  {
   "cell_type": "code",
   "execution_count": 29,
   "id": "94f327fc",
   "metadata": {},
   "outputs": [],
   "source": [
    "w,b=Gradient_Descent_(X_train.to_numpy(), y_train.to_numpy())"
   ]
  },
  {
   "cell_type": "code",
   "execution_count": 30,
   "id": "8a9f5399",
   "metadata": {},
   "outputs": [
    {
     "name": "stdout",
     "output_type": "stream",
     "text": [
      "Age 35 = [0]\n",
      "Age 46 = [1]\n"
     ]
    }
   ],
   "source": [
    "# predictiong by using Predefined moduls\n",
    "_35=model.predict([[35]])\n",
    "_46=model.predict([[46]])\n",
    "print(f\"Age 35 = {_35}\\nAge 46 = {_46}\")"
   ]
  },
  {
   "cell_type": "code",
   "execution_count": 31,
   "id": "5daf5fa4",
   "metadata": {},
   "outputs": [
    {
     "name": "stdout",
     "output_type": "stream",
     "text": [
      "Age 35 = 0\n",
      "Age 46 = 1\n"
     ]
    }
   ],
   "source": [
    "# predicting by using Custom modules\n",
    "yhat_35=prediction_function(35,w,b)\n",
    "yhat_46=prediction_function(46,w,b)\n",
    "print(f\"Age 35 = {yhat_35}\\nAge 46 = {yhat_46}\")"
   ]
  },
  {
   "cell_type": "code",
   "execution_count": 33,
   "id": "a6cef0fe",
   "metadata": {},
   "outputs": [
    {
     "name": "stdout",
     "output_type": "stream",
     "text": [
      "Using Predefined labraries w =  [[0.15467009]] b =  [-5.74561473]\n",
      "Using   custom   module    w =  [0.15473701]  b =  -5.746258711968621\n"
     ]
    }
   ],
   "source": [
    "w_p = model.coef_\n",
    "b_p = model.intercept_\n",
    "print('Using Predefined labraries w = ',w_p,'b = ',b_p)\n",
    "print('Using   custom   module    w = ',w,' b = ',b)"
   ]
  },
  {
   "cell_type": "markdown",
   "id": "4c169bee",
   "metadata": {},
   "source": [
    "The End..."
   ]
  },
  {
   "cell_type": "code",
   "execution_count": null,
   "id": "36936108",
   "metadata": {},
   "outputs": [],
   "source": []
  },
  {
   "cell_type": "code",
   "execution_count": null,
   "id": "2014ecfd",
   "metadata": {},
   "outputs": [],
   "source": []
  }
 ],
 "metadata": {
  "kernelspec": {
   "display_name": "Python 3 (ipykernel)",
   "language": "python",
   "name": "python3"
  },
  "language_info": {
   "codemirror_mode": {
    "name": "ipython",
    "version": 3
   },
   "file_extension": ".py",
   "mimetype": "text/x-python",
   "name": "python",
   "nbconvert_exporter": "python",
   "pygments_lexer": "ipython3",
   "version": "3.9.12"
  }
 },
 "nbformat": 4,
 "nbformat_minor": 5
}
